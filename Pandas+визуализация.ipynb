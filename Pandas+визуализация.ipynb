{
 "cells": [
  {
   "cell_type": "markdown",
   "metadata": {
    "id": "PBpR_m8NguuR"
   },
   "source": [
    "**Условие задачи**   \n",
    "Описание данных  \n",
    "\n",
    "Таблица products:  \n",
    "*product_id - id товара*  \n",
    "*level1 - категория*  \n",
    "*level2 - подкатегория*  \n",
    "*name - наименование товара*\n",
    "\n",
    "Таблица orders:  \n",
    "*order_id - номер чека*  \n",
    "*accepted_at - дата и время чека*  \n",
    "*product_id - id товара*  \n",
    "*quantity - кол-во товара в чеке*  \n",
    "*regular_price - регулярная цена*  \n",
    "*price - текущая цена*  \n",
    "*cost_price - закупочная цена*  \n",
    "\n",
    "**Задания**  \n",
    "1.Самая ходовая товарная группа  \n",
    "По какой категории товаров продано больше всего позиций?\n",
    "Подкрепите свой ответ таблицей, в которой рассчитано количество проданных штук товара в каждой товарной категории.\n",
    "Дополнительно постройте на основании этой таблицы barchart.\n",
    "Проверьте, чтобы все подписи на вашем графике выглядели читаемо и понятно. Этот график должен быть сходу понятен стороннему наблюдателю.  \n",
    "\n",
    "2.Распределение продаж по подкатегориям  \n",
    "Оцените распределение количества проданных позиций в каждой товарной категории (level1) по подкатегориям (level2). Проиллюстрируйте свой результат расчетной таблицей.\n",
    "\n",
    "3.Найти средний чек в заданную дату  \n",
    "Какой средний чек был 13.01.2022?\n",
    "\n",
    "4.Доля промо в заданной категории  \n",
    "Когда товар продается по промо-акции, его базовая цена не совпадает с фактической ценой. Вам необходимо посчитать, какую долю от общих продаж категории Сыры занимают промо (в штуках), построить пайчарт, который это проиллюстрирует. На графике должны быть видны группы, соответствующие доли и понятные подписи к ним.  \n",
    "\n",
    "5.Посчитать маржу по категориям  \n",
    "Нужно посчитать маржу в рублях и в %. Сделать это нужно по всем категориям level1 и отобразить с помощью 2 барчартов. Все подписи должны быть читаемыми и понятными.\n",
    "\n",
    "6.ABC анализ  \n",
    "Сделайте ABC-анализ продаж по количеству.  \n",
    "Сделайте ABC-анализ по сумме продаж.  \n",
    "Сделайте новый столбец, в котором будет итоговая группа на основании двух анализов. Например: AC."
   ]
  },
  {
   "cell_type": "markdown",
   "metadata": {
    "id": "pQd814AIdcyG"
   },
   "source": [
    "**Решение**  \n",
    "В условии задачи нет информации о ключах таблиц orders и products. Исходя из описания таблиц, поле product_id является первичным ключом в таблице products и внешним ключом для таблицы orders. В таблице orders первичный ключ, скорее всего, составной и состоит из полей order_id и product_id. Также нам неизвестно, есть ли дубликаты в таблицах.  \n",
    "Для решения задачи будем использовать Python, бибилиотеки Pandas и Matplotlib."
   ]
  },
  {
   "cell_type": "code",
   "execution_count": 1,
   "metadata": {
    "id": "P1li1Kc07b8Y"
   },
   "outputs": [],
   "source": [
    "import pandas as pd\n",
    "import matplotlib.pyplot as plt\n",
    "orders = pd.read_excel('orders.xlsx')\n",
    "products = pd.read_excel('products.xlsx')"
   ]
  },
  {
   "cell_type": "code",
   "execution_count": 2,
   "metadata": {
    "colab": {
     "base_uri": "https://localhost:8080/",
     "height": 206
    },
    "id": "tVLrZxvZ8edu",
    "outputId": "584f4ad2-07be-4521-a65e-03b372070766"
   },
   "outputs": [
    {
     "data": {
      "text/html": [
       "<div>\n",
       "<style scoped>\n",
       "    .dataframe tbody tr th:only-of-type {\n",
       "        vertical-align: middle;\n",
       "    }\n",
       "\n",
       "    .dataframe tbody tr th {\n",
       "        vertical-align: top;\n",
       "    }\n",
       "\n",
       "    .dataframe thead th {\n",
       "        text-align: right;\n",
       "    }\n",
       "</style>\n",
       "<table border=\"1\" class=\"dataframe\">\n",
       "  <thead>\n",
       "    <tr style=\"text-align: right;\">\n",
       "      <th></th>\n",
       "      <th>order_id</th>\n",
       "      <th>accepted_at</th>\n",
       "      <th>product_id</th>\n",
       "      <th>quantity</th>\n",
       "      <th>regular_price</th>\n",
       "      <th>price</th>\n",
       "      <th>cost_price</th>\n",
       "    </tr>\n",
       "  </thead>\n",
       "  <tbody>\n",
       "    <tr>\n",
       "      <th>0</th>\n",
       "      <td>1517514900</td>\n",
       "      <td>2022-01-13 16:48:19</td>\n",
       "      <td>17122</td>\n",
       "      <td>1</td>\n",
       "      <td>169</td>\n",
       "      <td>169</td>\n",
       "      <td>74</td>\n",
       "    </tr>\n",
       "    <tr>\n",
       "      <th>1</th>\n",
       "      <td>1517430051</td>\n",
       "      <td>2022-01-13 16:46:53</td>\n",
       "      <td>17122</td>\n",
       "      <td>1</td>\n",
       "      <td>169</td>\n",
       "      <td>169</td>\n",
       "      <td>74</td>\n",
       "    </tr>\n",
       "    <tr>\n",
       "      <th>2</th>\n",
       "      <td>1517578174</td>\n",
       "      <td>2022-01-13 18:12:30</td>\n",
       "      <td>17122</td>\n",
       "      <td>1</td>\n",
       "      <td>169</td>\n",
       "      <td>169</td>\n",
       "      <td>74</td>\n",
       "    </tr>\n",
       "    <tr>\n",
       "      <th>3</th>\n",
       "      <td>1517466327</td>\n",
       "      <td>2022-01-13 15:11:12</td>\n",
       "      <td>22199</td>\n",
       "      <td>1</td>\n",
       "      <td>219</td>\n",
       "      <td>219</td>\n",
       "      <td>130</td>\n",
       "    </tr>\n",
       "    <tr>\n",
       "      <th>4</th>\n",
       "      <td>1517429157</td>\n",
       "      <td>2022-01-13 19:15:59</td>\n",
       "      <td>22199</td>\n",
       "      <td>1</td>\n",
       "      <td>219</td>\n",
       "      <td>219</td>\n",
       "      <td>130</td>\n",
       "    </tr>\n",
       "  </tbody>\n",
       "</table>\n",
       "</div>"
      ],
      "text/plain": [
       "     order_id         accepted_at  product_id  quantity  regular_price  price  \\\n",
       "0  1517514900 2022-01-13 16:48:19       17122         1            169    169   \n",
       "1  1517430051 2022-01-13 16:46:53       17122         1            169    169   \n",
       "2  1517578174 2022-01-13 18:12:30       17122         1            169    169   \n",
       "3  1517466327 2022-01-13 15:11:12       22199         1            219    219   \n",
       "4  1517429157 2022-01-13 19:15:59       22199         1            219    219   \n",
       "\n",
       "   cost_price  \n",
       "0          74  \n",
       "1          74  \n",
       "2          74  \n",
       "3         130  \n",
       "4         130  "
      ]
     },
     "execution_count": 2,
     "metadata": {},
     "output_type": "execute_result"
    }
   ],
   "source": [
    "# посмотрим на загруженныей датафрейм orders\n",
    "orders.head()"
   ]
  },
  {
   "cell_type": "code",
   "execution_count": 3,
   "metadata": {
    "colab": {
     "base_uri": "https://localhost:8080/"
    },
    "id": "F0pLVrqVEw36",
    "outputId": "2848d1c4-52ec-4ea4-802f-f26cfccc26bf"
   },
   "outputs": [
    {
     "name": "stdout",
     "output_type": "stream",
     "text": [
      "<class 'pandas.core.frame.DataFrame'>\n",
      "RangeIndex: 3323 entries, 0 to 3322\n",
      "Data columns (total 7 columns):\n",
      " #   Column         Non-Null Count  Dtype         \n",
      "---  ------         --------------  -----         \n",
      " 0   order_id       3323 non-null   int64         \n",
      " 1   accepted_at    3323 non-null   datetime64[ns]\n",
      " 2   product_id     3323 non-null   int64         \n",
      " 3   quantity       3323 non-null   int64         \n",
      " 4   regular_price  3323 non-null   int64         \n",
      " 5   price          3323 non-null   int64         \n",
      " 6   cost_price     3323 non-null   int64         \n",
      "dtypes: datetime64[ns](1), int64(6)\n",
      "memory usage: 181.9 KB\n"
     ]
    }
   ],
   "source": [
    "orders.info() # пустых значений в наборе данных нет, в наборе 3323 строки"
   ]
  },
  {
   "cell_type": "code",
   "execution_count": 4,
   "metadata": {
    "colab": {
     "base_uri": "https://localhost:8080/"
    },
    "id": "H6Ha-xB4PwvJ",
    "outputId": "699fd224-248f-47a5-b558-93bcde03b408"
   },
   "outputs": [
    {
     "data": {
      "text/plain": [
       "0       False\n",
       "1       False\n",
       "2       False\n",
       "3       False\n",
       "4       False\n",
       "        ...  \n",
       "3318    False\n",
       "3319    False\n",
       "3320    False\n",
       "3321    False\n",
       "3322    False\n",
       "Length: 3323, dtype: bool"
      ]
     },
     "execution_count": 4,
     "metadata": {},
     "output_type": "execute_result"
    }
   ],
   "source": [
    "orders.duplicated() # дублирующихся строк в наборе данных нет"
   ]
  },
  {
   "cell_type": "code",
   "execution_count": 5,
   "metadata": {
    "colab": {
     "base_uri": "https://localhost:8080/",
     "height": 206
    },
    "id": "h1h5guwX8hP8",
    "outputId": "27faef60-0fb6-4c56-bf0d-08bfd03ca6e1"
   },
   "outputs": [
    {
     "data": {
      "text/html": [
       "<div>\n",
       "<style scoped>\n",
       "    .dataframe tbody tr th:only-of-type {\n",
       "        vertical-align: middle;\n",
       "    }\n",
       "\n",
       "    .dataframe tbody tr th {\n",
       "        vertical-align: top;\n",
       "    }\n",
       "\n",
       "    .dataframe thead th {\n",
       "        text-align: right;\n",
       "    }\n",
       "</style>\n",
       "<table border=\"1\" class=\"dataframe\">\n",
       "  <thead>\n",
       "    <tr style=\"text-align: right;\">\n",
       "      <th></th>\n",
       "      <th>product_id</th>\n",
       "      <th>level1</th>\n",
       "      <th>level2</th>\n",
       "      <th>name</th>\n",
       "    </tr>\n",
       "  </thead>\n",
       "  <tbody>\n",
       "    <tr>\n",
       "      <th>0</th>\n",
       "      <td>1</td>\n",
       "      <td>Гигиена</td>\n",
       "      <td>Бритье</td>\n",
       "      <td>Кассеты для бритья Gillette Fusion ProGlide Po...</td>\n",
       "    </tr>\n",
       "    <tr>\n",
       "      <th>1</th>\n",
       "      <td>2</td>\n",
       "      <td>Мучные кондитерские изделия</td>\n",
       "      <td>Мучные кондитерские изделия</td>\n",
       "      <td>Печенье Бодрость</td>\n",
       "    </tr>\n",
       "    <tr>\n",
       "      <th>2</th>\n",
       "      <td>3</td>\n",
       "      <td>Мясная гастрономия</td>\n",
       "      <td>Сосиски, сардельки</td>\n",
       "      <td>Сосиски Стародворье</td>\n",
       "    </tr>\n",
       "    <tr>\n",
       "      <th>3</th>\n",
       "      <td>4</td>\n",
       "      <td>Чай</td>\n",
       "      <td>Черный чай</td>\n",
       "      <td>Чай Азерчай</td>\n",
       "    </tr>\n",
       "    <tr>\n",
       "      <th>4</th>\n",
       "      <td>5</td>\n",
       "      <td>Безалкогольные напитки</td>\n",
       "      <td>Соковая продукция</td>\n",
       "      <td>Морс Valio</td>\n",
       "    </tr>\n",
       "  </tbody>\n",
       "</table>\n",
       "</div>"
      ],
      "text/plain": [
       "   product_id                       level1                       level2  \\\n",
       "0           1                      Гигиена                       Бритье   \n",
       "1           2  Мучные кондитерские изделия  Мучные кондитерские изделия   \n",
       "2           3           Мясная гастрономия           Сосиски, сардельки   \n",
       "3           4                          Чай                   Черный чай   \n",
       "4           5       Безалкогольные напитки            Соковая продукция   \n",
       "\n",
       "                                                name  \n",
       "0  Кассеты для бритья Gillette Fusion ProGlide Po...  \n",
       "1                                  Печенье Бодрость   \n",
       "2                               Сосиски Стародворье   \n",
       "3                                       Чай Азерчай   \n",
       "4                                        Морс Valio   "
      ]
     },
     "execution_count": 5,
     "metadata": {},
     "output_type": "execute_result"
    }
   ],
   "source": [
    "# посмотрим на загруженныей датафрейм products\n",
    "products.head()"
   ]
  },
  {
   "cell_type": "code",
   "execution_count": 6,
   "metadata": {
    "colab": {
     "base_uri": "https://localhost:8080/"
    },
    "id": "_-NSGAaVIaX5",
    "outputId": "c19aaf30-654d-49b0-dec0-d2c2412f53d3"
   },
   "outputs": [
    {
     "name": "stdout",
     "output_type": "stream",
     "text": [
      "<class 'pandas.core.frame.DataFrame'>\n",
      "RangeIndex: 40152 entries, 0 to 40151\n",
      "Data columns (total 4 columns):\n",
      " #   Column      Non-Null Count  Dtype \n",
      "---  ------      --------------  ----- \n",
      " 0   product_id  40152 non-null  int64 \n",
      " 1   level1      40152 non-null  object\n",
      " 2   level2      40152 non-null  object\n",
      " 3   name        39940 non-null  object\n",
      "dtypes: int64(1), object(3)\n",
      "memory usage: 1.2+ MB\n"
     ]
    }
   ],
   "source": [
    "products.info() # в наборе 40152 строки, у части продуктов null в поле name"
   ]
  },
  {
   "cell_type": "code",
   "execution_count": 7,
   "metadata": {
    "colab": {
     "base_uri": "https://localhost:8080/"
    },
    "id": "L-0PkU5jNTjR",
    "outputId": "6de87ba4-70fb-471b-b867-b6e19c1959f9"
   },
   "outputs": [
    {
     "data": {
      "text/plain": [
       "40152"
      ]
     },
     "execution_count": 7,
     "metadata": {},
     "output_type": "execute_result"
    }
   ],
   "source": [
    "products['product_id'].nunique() # проверили уникальность поля product_id, по которому будем соединять таблицы, те же 40152 записи"
   ]
  },
  {
   "cell_type": "code",
   "execution_count": 8,
   "metadata": {
    "colab": {
     "base_uri": "https://localhost:8080/",
     "height": 206
    },
    "id": "pZnp9FXGLaFY",
    "outputId": "03994648-0fa5-4be6-99be-32b5b3eb04fe"
   },
   "outputs": [
    {
     "data": {
      "text/html": [
       "<div>\n",
       "<style scoped>\n",
       "    .dataframe tbody tr th:only-of-type {\n",
       "        vertical-align: middle;\n",
       "    }\n",
       "\n",
       "    .dataframe tbody tr th {\n",
       "        vertical-align: top;\n",
       "    }\n",
       "\n",
       "    .dataframe thead th {\n",
       "        text-align: right;\n",
       "    }\n",
       "</style>\n",
       "<table border=\"1\" class=\"dataframe\">\n",
       "  <thead>\n",
       "    <tr style=\"text-align: right;\">\n",
       "      <th></th>\n",
       "      <th>order_id</th>\n",
       "      <th>accepted_at</th>\n",
       "      <th>product_id</th>\n",
       "      <th>quantity</th>\n",
       "      <th>regular_price</th>\n",
       "      <th>price</th>\n",
       "      <th>cost_price</th>\n",
       "      <th>level1</th>\n",
       "      <th>level2</th>\n",
       "      <th>name</th>\n",
       "    </tr>\n",
       "  </thead>\n",
       "  <tbody>\n",
       "    <tr>\n",
       "      <th>0</th>\n",
       "      <td>1517514900</td>\n",
       "      <td>2022-01-13 16:48:19</td>\n",
       "      <td>17122</td>\n",
       "      <td>1</td>\n",
       "      <td>169</td>\n",
       "      <td>169</td>\n",
       "      <td>74</td>\n",
       "      <td>Рыбная гастрономия</td>\n",
       "      <td>Нерыбные продукты моря</td>\n",
       "      <td>Крабовые палочки Меридиан</td>\n",
       "    </tr>\n",
       "    <tr>\n",
       "      <th>1</th>\n",
       "      <td>1517430051</td>\n",
       "      <td>2022-01-13 16:46:53</td>\n",
       "      <td>17122</td>\n",
       "      <td>1</td>\n",
       "      <td>169</td>\n",
       "      <td>169</td>\n",
       "      <td>74</td>\n",
       "      <td>Рыбная гастрономия</td>\n",
       "      <td>Нерыбные продукты моря</td>\n",
       "      <td>Крабовые палочки Меридиан</td>\n",
       "    </tr>\n",
       "    <tr>\n",
       "      <th>2</th>\n",
       "      <td>1517578174</td>\n",
       "      <td>2022-01-13 18:12:30</td>\n",
       "      <td>17122</td>\n",
       "      <td>1</td>\n",
       "      <td>169</td>\n",
       "      <td>169</td>\n",
       "      <td>74</td>\n",
       "      <td>Рыбная гастрономия</td>\n",
       "      <td>Нерыбные продукты моря</td>\n",
       "      <td>Крабовые палочки Меридиан</td>\n",
       "    </tr>\n",
       "    <tr>\n",
       "      <th>3</th>\n",
       "      <td>1517466327</td>\n",
       "      <td>2022-01-13 15:11:12</td>\n",
       "      <td>22199</td>\n",
       "      <td>1</td>\n",
       "      <td>219</td>\n",
       "      <td>219</td>\n",
       "      <td>130</td>\n",
       "      <td>Сыры</td>\n",
       "      <td>Мягкие сыры</td>\n",
       "      <td>Сыр Самокат</td>\n",
       "    </tr>\n",
       "    <tr>\n",
       "      <th>4</th>\n",
       "      <td>1517429157</td>\n",
       "      <td>2022-01-13 19:15:59</td>\n",
       "      <td>22199</td>\n",
       "      <td>1</td>\n",
       "      <td>219</td>\n",
       "      <td>219</td>\n",
       "      <td>130</td>\n",
       "      <td>Сыры</td>\n",
       "      <td>Мягкие сыры</td>\n",
       "      <td>Сыр Самокат</td>\n",
       "    </tr>\n",
       "  </tbody>\n",
       "</table>\n",
       "</div>"
      ],
      "text/plain": [
       "     order_id         accepted_at  product_id  quantity  regular_price  price  \\\n",
       "0  1517514900 2022-01-13 16:48:19       17122         1            169    169   \n",
       "1  1517430051 2022-01-13 16:46:53       17122         1            169    169   \n",
       "2  1517578174 2022-01-13 18:12:30       17122         1            169    169   \n",
       "3  1517466327 2022-01-13 15:11:12       22199         1            219    219   \n",
       "4  1517429157 2022-01-13 19:15:59       22199         1            219    219   \n",
       "\n",
       "   cost_price              level1                  level2  \\\n",
       "0          74  Рыбная гастрономия  Нерыбные продукты моря   \n",
       "1          74  Рыбная гастрономия  Нерыбные продукты моря   \n",
       "2          74  Рыбная гастрономия  Нерыбные продукты моря   \n",
       "3         130                Сыры             Мягкие сыры   \n",
       "4         130                Сыры             Мягкие сыры   \n",
       "\n",
       "                         name  \n",
       "0  Крабовые палочки Меридиан   \n",
       "1  Крабовые палочки Меридиан   \n",
       "2  Крабовые палочки Меридиан   \n",
       "3                Сыр Самокат   \n",
       "4                Сыр Самокат   "
      ]
     },
     "execution_count": 8,
     "metadata": {},
     "output_type": "execute_result"
    }
   ],
   "source": [
    "# для аналитики понадобится соединенный датафрейм\n",
    "df = pd.merge(orders, products, on = 'product_id')\n",
    "df.head()"
   ]
  },
  {
   "cell_type": "code",
   "execution_count": 9,
   "metadata": {
    "colab": {
     "base_uri": "https://localhost:8080/"
    },
    "id": "jbpp2jeZL6k5",
    "outputId": "08ee26bc-4833-4d85-c455-13256b7e101c"
   },
   "outputs": [
    {
     "name": "stdout",
     "output_type": "stream",
     "text": [
      "<class 'pandas.core.frame.DataFrame'>\n",
      "RangeIndex: 3018 entries, 0 to 3017\n",
      "Data columns (total 10 columns):\n",
      " #   Column         Non-Null Count  Dtype         \n",
      "---  ------         --------------  -----         \n",
      " 0   order_id       3018 non-null   int64         \n",
      " 1   accepted_at    3018 non-null   datetime64[ns]\n",
      " 2   product_id     3018 non-null   int64         \n",
      " 3   quantity       3018 non-null   int64         \n",
      " 4   regular_price  3018 non-null   int64         \n",
      " 5   price          3018 non-null   int64         \n",
      " 6   cost_price     3018 non-null   int64         \n",
      " 7   level1         3018 non-null   object        \n",
      " 8   level2         3018 non-null   object        \n",
      " 9   name           3010 non-null   object        \n",
      "dtypes: datetime64[ns](1), int64(6), object(3)\n",
      "memory usage: 235.9+ KB\n"
     ]
    }
   ],
   "source": [
    "df.info()\n",
    "# в объединенном наборе данных 3018 строк, это меньше, чем в обоих исходных датафреймах\n",
    "# часть заказов из таблицы orders с product_id, отсутствующими в таблице products, не представлена в объединенном датафрейме\n",
    "# для большинства задач, кроме 3ей, подойдет именно этот датафрейм, с пересекающимися данными из orders и products"
   ]
  },
  {
   "cell_type": "markdown",
   "metadata": {
    "id": "xdqkcXiaRoVu"
   },
   "source": [
    "**Задачи**"
   ]
  },
  {
   "cell_type": "markdown",
   "metadata": {
    "id": "dJQ1Dzh4o8qx"
   },
   "source": [
    "**1. По какой категории товаров продано больше всего позиций?**  \n",
    "Ответ: безалкогольные напитки - 534 шт. товаров\n",
    "\n",
    "\n"
   ]
  },
  {
   "cell_type": "code",
   "execution_count": 10,
   "metadata": {
    "colab": {
     "base_uri": "https://localhost:8080/",
     "height": 81
    },
    "id": "x0AdbLcfpzg8",
    "outputId": "5253f5f7-1669-44d6-ac9f-28f5ad748685"
   },
   "outputs": [
    {
     "data": {
      "text/html": [
       "<div>\n",
       "<style scoped>\n",
       "    .dataframe tbody tr th:only-of-type {\n",
       "        vertical-align: middle;\n",
       "    }\n",
       "\n",
       "    .dataframe tbody tr th {\n",
       "        vertical-align: top;\n",
       "    }\n",
       "\n",
       "    .dataframe thead th {\n",
       "        text-align: right;\n",
       "    }\n",
       "</style>\n",
       "<table border=\"1\" class=\"dataframe\">\n",
       "  <thead>\n",
       "    <tr style=\"text-align: right;\">\n",
       "      <th></th>\n",
       "      <th>level1</th>\n",
       "      <th>quantity</th>\n",
       "    </tr>\n",
       "  </thead>\n",
       "  <tbody>\n",
       "    <tr>\n",
       "      <th>1</th>\n",
       "      <td>Безалкогольные напитки</td>\n",
       "      <td>534</td>\n",
       "    </tr>\n",
       "  </tbody>\n",
       "</table>\n",
       "</div>"
      ],
      "text/plain": [
       "                   level1  quantity\n",
       "1  Безалкогольные напитки       534"
      ]
     },
     "execution_count": 10,
     "metadata": {},
     "output_type": "execute_result"
    }
   ],
   "source": [
    "df1 = df.groupby(['level1']).agg({'quantity':sum}).reset_index().sort_values(by = ['quantity'], ascending = False)\n",
    "df1.head(1)"
   ]
  },
  {
   "cell_type": "code",
   "execution_count": 11,
   "metadata": {
    "colab": {
     "base_uri": "https://localhost:8080/",
     "height": 691
    },
    "id": "_pjaw2Q5sYJn",
    "outputId": "93551102-ad4c-47d8-fd37-14d40fd0487f"
   },
   "outputs": [
    {
     "data": {
      "image/png": "[encoded data removed]",
      "text/plain": [
       "<Figure size 640x480 with 1 Axes>"
      ]
     },
     "metadata": {},
     "output_type": "display_data"
    }
   ],
   "source": [
    "plt.bar(df1['level1'], df1['quantity'])\n",
    "plt.title('Количество проданных товаров по категориям')\n",
    "plt.xlabel('Категории товаров')\n",
    "plt.ylabel('Количество проданных товаров, шт.')\n",
    "plt.xticks(rotation = 90);"
   ]
  },
  {
   "cell_type": "markdown",
   "metadata": {
    "id": "wtt3KagNu7C1"
   },
   "source": [
    "**2. Оцените распределение количества проданных позиций в каждой товарной категории (level1) по подкатегориям (level2). Проиллюстрируйте свой результат расчетной таблицей.**"
   ]
  },
  {
   "cell_type": "code",
   "execution_count": null,
   "metadata": {
    "colab": {
     "base_uri": "https://localhost:8080/",
     "height": 424
    },
    "id": "NA3AgKs9u3Ln",
    "outputId": "9dab3dca-231e-4a0d-c467-557d85c277ae"
   },
   "outputs": [
    {
     "data": {
      "text/html": [
       "\n",
       "  <div id=\"df-4d495a5a-144a-4b92-aab1-3149d10f5259\" class=\"colab-df-container\">\n",
       "    <div>\n",
       "<style scoped>\n",
       "    .dataframe tbody tr th:only-of-type {\n",
       "        vertical-align: middle;\n",
       "    }\n",
       "\n",
       "    .dataframe tbody tr th {\n",
       "        vertical-align: top;\n",
       "    }\n",
       "\n",
       "    .dataframe thead th {\n",
       "        text-align: right;\n",
       "    }\n",
       "</style>\n",
       "<table border=\"1\" class=\"dataframe\">\n",
       "  <thead>\n",
       "    <tr style=\"text-align: right;\">\n",
       "      <th></th>\n",
       "      <th>level1</th>\n",
       "      <th>level2</th>\n",
       "      <th>quantity</th>\n",
       "    </tr>\n",
       "  </thead>\n",
       "  <tbody>\n",
       "    <tr>\n",
       "      <th>10</th>\n",
       "      <td>Бакалея</td>\n",
       "      <td>Сухие блюда быстрого приготовления</td>\n",
       "      <td>38</td>\n",
       "    </tr>\n",
       "    <tr>\n",
       "      <th>3</th>\n",
       "      <td>Бакалея</td>\n",
       "      <td>Крупы, бобовые</td>\n",
       "      <td>30</td>\n",
       "    </tr>\n",
       "    <tr>\n",
       "      <th>1</th>\n",
       "      <td>Бакалея</td>\n",
       "      <td>Зерновые для завтраков</td>\n",
       "      <td>24</td>\n",
       "    </tr>\n",
       "    <tr>\n",
       "      <th>4</th>\n",
       "      <td>Бакалея</td>\n",
       "      <td>Макаронные изделия</td>\n",
       "      <td>24</td>\n",
       "    </tr>\n",
       "    <tr>\n",
       "      <th>9</th>\n",
       "      <td>Бакалея</td>\n",
       "      <td>Соусы</td>\n",
       "      <td>24</td>\n",
       "    </tr>\n",
       "    <tr>\n",
       "      <th>...</th>\n",
       "      <td>...</td>\n",
       "      <td>...</td>\n",
       "      <td>...</td>\n",
       "    </tr>\n",
       "    <tr>\n",
       "      <th>95</th>\n",
       "      <td>Хлеб и хлебобулочные изделия</td>\n",
       "      <td>Хлеб и хлебобулочные изделия</td>\n",
       "      <td>218</td>\n",
       "    </tr>\n",
       "    <tr>\n",
       "      <th>98</th>\n",
       "      <td>Чай</td>\n",
       "      <td>Черный чай</td>\n",
       "      <td>26</td>\n",
       "    </tr>\n",
       "    <tr>\n",
       "      <th>96</th>\n",
       "      <td>Чай</td>\n",
       "      <td>Зеленый чай</td>\n",
       "      <td>7</td>\n",
       "    </tr>\n",
       "    <tr>\n",
       "      <th>97</th>\n",
       "      <td>Чай</td>\n",
       "      <td>Чайные напитки</td>\n",
       "      <td>7</td>\n",
       "    </tr>\n",
       "    <tr>\n",
       "      <th>99</th>\n",
       "      <td>Яичные товары</td>\n",
       "      <td>Яйцо куриное</td>\n",
       "      <td>40</td>\n",
       "    </tr>\n",
       "  </tbody>\n",
       "</table>\n",
       "<p>100 rows × 3 columns</p>\n",
       "</div>\n",
       "    <div class=\"colab-df-buttons\">\n",
       "\n",
       "  <div class=\"colab-df-container\">\n",
       "    <button class=\"colab-df-convert\" onclick=\"convertToInteractive('df-4d495a5a-144a-4b92-aab1-3149d10f5259')\"\n",
       "            title=\"Convert this dataframe to an interactive table.\"\n",
       "            style=\"display:none;\">\n",
       "\n",
       "  <svg xmlns=\"http://www.w3.org/2000/svg\" height=\"24px\" viewBox=\"0 -960 960 960\">\n",
       "    <path d=\"M120-120v-720h720v720H120Zm60-500h600v-160H180v160Zm220 220h160v-160H400v160Zm0 220h160v-160H400v160ZM180-400h160v-160H180v160Zm440 0h160v-160H620v160ZM180-180h160v-160H180v160Zm440 0h160v-160H620v160Z\"/>\n",
       "  </svg>\n",
       "    </button>\n",
       "\n",
       "  <style>\n",
       "    .colab-df-container {\n",
       "      display:flex;\n",
       "      gap: 12px;\n",
       "    }\n",
       "\n",
       "    .colab-df-convert {\n",
       "      background-color: #E8F0FE;\n",
       "      border: none;\n",
       "      border-radius: 50%;\n",
       "      cursor: pointer;\n",
       "      display: none;\n",
       "      fill: #1967D2;\n",
       "      height: 32px;\n",
       "      padding: 0 0 0 0;\n",
       "      width: 32px;\n",
       "    }\n",
       "\n",
       "    .colab-df-convert:hover {\n",
       "      background-color: #E2EBFA;\n",
       "      box-shadow: 0px 1px 2px rgba(60, 64, 67, 0.3), 0px 1px 3px 1px rgba(60, 64, 67, 0.15);\n",
       "      fill: #174EA6;\n",
       "    }\n",
       "\n",
       "    .colab-df-buttons div {\n",
       "      margin-bottom: 4px;\n",
       "    }\n",
       "\n",
       "    [theme=dark] .colab-df-convert {\n",
       "      background-color: #3B4455;\n",
       "      fill: #D2E3FC;\n",
       "    }\n",
       "\n",
       "    [theme=dark] .colab-df-convert:hover {\n",
       "      background-color: #434B5C;\n",
       "      box-shadow: 0px 1px 3px 1px rgba(0, 0, 0, 0.15);\n",
       "      filter: drop-shadow(0px 1px 2px rgba(0, 0, 0, 0.3));\n",
       "      fill: #FFFFFF;\n",
       "    }\n",
       "  </style>\n",
       "\n",
       "    <script>\n",
       "      const buttonEl =\n",
       "        document.querySelector('#df-4d495a5a-144a-4b92-aab1-3149d10f5259 button.colab-df-convert');\n",
       "      buttonEl.style.display =\n",
       "        google.colab.kernel.accessAllowed ? 'block' : 'none';\n",
       "\n",
       "      async function convertToInteractive(key) {\n",
       "        const element = document.querySelector('#df-4d495a5a-144a-4b92-aab1-3149d10f5259');\n",
       "        const dataTable =\n",
       "          await google.colab.kernel.invokeFunction('convertToInteractive',\n",
       "                                                    [key], {});\n",
       "        if (!dataTable) return;\n",
       "\n",
       "        const docLinkHtml = 'Like what you see? Visit the ' +\n",
       "          '<a target=\"_blank\" href=https://colab.research.google.com/notebooks/data_table.ipynb>data table notebook</a>'\n",
       "          + ' to learn more about interactive tables.';\n",
       "        element.innerHTML = '';\n",
       "        dataTable['output_type'] = 'display_data';\n",
       "        await google.colab.output.renderOutput(dataTable, element);\n",
       "        const docLink = document.createElement('div');\n",
       "        docLink.innerHTML = docLinkHtml;\n",
       "        element.appendChild(docLink);\n",
       "      }\n",
       "    </script>\n",
       "  </div>\n",
       "\n",
       "\n",
       "<div id=\"df-7342dc88-7660-4de5-90cc-2b3bc0806258\">\n",
       "  <button class=\"colab-df-quickchart\" onclick=\"quickchart('df-7342dc88-7660-4de5-90cc-2b3bc0806258')\"\n",
       "            title=\"Suggest charts.\"\n",
       "            style=\"display:none;\">\n",
       "\n",
       "<svg xmlns=\"http://www.w3.org/2000/svg\" height=\"24px\"viewBox=\"0 0 24 24\"\n",
       "     width=\"24px\">\n",
       "    <g>\n",
       "        <path d=\"M19 3H5c-1.1 0-2 .9-2 2v14c0 1.1.9 2 2 2h14c1.1 0 2-.9 2-2V5c0-1.1-.9-2-2-2zM9 17H7v-7h2v7zm4 0h-2V7h2v10zm4 0h-2v-4h2v4z\"/>\n",
       "    </g>\n",
       "</svg>\n",
       "  </button>\n",
       "\n",
       "<style>\n",
       "  .colab-df-quickchart {\n",
       "      --bg-color: #E8F0FE;\n",
       "      --fill-color: #1967D2;\n",
       "      --hover-bg-color: #E2EBFA;\n",
       "      --hover-fill-color: #174EA6;\n",
       "      --disabled-fill-color: #AAA;\n",
       "      --disabled-bg-color: #DDD;\n",
       "  }\n",
       "\n",
       "  [theme=dark] .colab-df-quickchart {\n",
       "      --bg-color: #3B4455;\n",
       "      --fill-color: #D2E3FC;\n",
       "      --hover-bg-color: #434B5C;\n",
       "      --hover-fill-color: #FFFFFF;\n",
       "      --disabled-bg-color: #3B4455;\n",
       "      --disabled-fill-color: #666;\n",
       "  }\n",
       "\n",
       "  .colab-df-quickchart {\n",
       "    background-color: var(--bg-color);\n",
       "    border: none;\n",
       "    border-radius: 50%;\n",
       "    cursor: pointer;\n",
       "    display: none;\n",
       "    fill: var(--fill-color);\n",
       "    height: 32px;\n",
       "    padding: 0;\n",
       "    width: 32px;\n",
       "  }\n",
       "\n",
       "  .colab-df-quickchart:hover {\n",
       "    background-color: var(--hover-bg-color);\n",
       "    box-shadow: 0 1px 2px rgba(60, 64, 67, 0.3), 0 1px 3px 1px rgba(60, 64, 67, 0.15);\n",
       "    fill: var(--button-hover-fill-color);\n",
       "  }\n",
       "\n",
       "  .colab-df-quickchart-complete:disabled,\n",
       "  .colab-df-quickchart-complete:disabled:hover {\n",
       "    background-color: var(--disabled-bg-color);\n",
       "    fill: var(--disabled-fill-color);\n",
       "    box-shadow: none;\n",
       "  }\n",
       "\n",
       "  .colab-df-spinner {\n",
       "    border: 2px solid var(--fill-color);\n",
       "    border-color: transparent;\n",
       "    border-bottom-color: var(--fill-color);\n",
       "    animation:\n",
       "      spin 1s steps(1) infinite;\n",
       "  }\n",
       "\n",
       "  @keyframes spin {\n",
       "    0% {\n",
       "      border-color: transparent;\n",
       "      border-bottom-color: var(--fill-color);\n",
       "      border-left-color: var(--fill-color);\n",
       "    }\n",
       "    20% {\n",
       "      border-color: transparent;\n",
       "      border-left-color: var(--fill-color);\n",
       "      border-top-color: var(--fill-color);\n",
       "    }\n",
       "    30% {\n",
       "      border-color: transparent;\n",
       "      border-left-color: var(--fill-color);\n",
       "      border-top-color: var(--fill-color);\n",
       "      border-right-color: var(--fill-color);\n",
       "    }\n",
       "    40% {\n",
       "      border-color: transparent;\n",
       "      border-right-color: var(--fill-color);\n",
       "      border-top-color: var(--fill-color);\n",
       "    }\n",
       "    60% {\n",
       "      border-color: transparent;\n",
       "      border-right-color: var(--fill-color);\n",
       "    }\n",
       "    80% {\n",
       "      border-color: transparent;\n",
       "      border-right-color: var(--fill-color);\n",
       "      border-bottom-color: var(--fill-color);\n",
       "    }\n",
       "    90% {\n",
       "      border-color: transparent;\n",
       "      border-bottom-color: var(--fill-color);\n",
       "    }\n",
       "  }\n",
       "</style>\n",
       "\n",
       "  <script>\n",
       "    async function quickchart(key) {\n",
       "      const quickchartButtonEl =\n",
       "        document.querySelector('#' + key + ' button');\n",
       "      quickchartButtonEl.disabled = true;  // To prevent multiple clicks.\n",
       "      quickchartButtonEl.classList.add('colab-df-spinner');\n",
       "      try {\n",
       "        const charts = await google.colab.kernel.invokeFunction(\n",
       "            'suggestCharts', [key], {});\n",
       "      } catch (error) {\n",
       "        console.error('Error during call to suggestCharts:', error);\n",
       "      }\n",
       "      quickchartButtonEl.classList.remove('colab-df-spinner');\n",
       "      quickchartButtonEl.classList.add('colab-df-quickchart-complete');\n",
       "    }\n",
       "    (() => {\n",
       "      let quickchartButtonEl =\n",
       "        document.querySelector('#df-7342dc88-7660-4de5-90cc-2b3bc0806258 button');\n",
       "      quickchartButtonEl.style.display =\n",
       "        google.colab.kernel.accessAllowed ? 'block' : 'none';\n",
       "    })();\n",
       "  </script>\n",
       "</div>\n",
       "    </div>\n",
       "  </div>\n"
      ],
      "text/plain": [
       "                          level1                              level2  quantity\n",
       "10                       Бакалея  Сухие блюда быстрого приготовления        38\n",
       "3                        Бакалея                      Крупы, бобовые        30\n",
       "1                        Бакалея              Зерновые для завтраков        24\n",
       "4                        Бакалея                  Макаронные изделия        24\n",
       "9                        Бакалея                               Соусы        24\n",
       "..                           ...                                 ...       ...\n",
       "95  Хлеб и хлебобулочные изделия        Хлеб и хлебобулочные изделия       218\n",
       "98                           Чай                          Черный чай        26\n",
       "96                           Чай                         Зеленый чай         7\n",
       "97                           Чай                      Чайные напитки         7\n",
       "99                 Яичные товары                        Яйцо куриное        40\n",
       "\n",
       "[100 rows x 3 columns]"
      ]
     },
     "execution_count": 68,
     "metadata": {},
     "output_type": "execute_result"
    }
   ],
   "source": [
    "df2 = df.groupby(['level1', 'level2']).agg({'quantity': sum}).reset_index().sort_values(by = ['level1', 'quantity'], ascending = (True, False))\n",
    "df2.head(100)"
   ]
  },
  {
   "cell_type": "markdown",
   "metadata": {
    "id": "bH1yy05DxW5J"
   },
   "source": [
    "**3. Какой средний чек был 13.01.2022?**  \n",
    "Ответ: 798"
   ]
  },
  {
   "cell_type": "code",
   "execution_count": 12,
   "metadata": {
    "colab": {
     "base_uri": "https://localhost:8080/"
    },
    "id": "62ghcSRWFkfT",
    "outputId": "f97bf552-b331-46f7-f4e8-33db6b4865a7"
   },
   "outputs": [
    {
     "data": {
      "text/plain": [
       "798.0422794117648"
      ]
     },
     "execution_count": 12,
     "metadata": {},
     "output_type": "execute_result"
    }
   ],
   "source": [
    "# здесь считаем по таблице orders\n",
    "orders['accepted_at'] = orders['accepted_at'].dt.strftime('%Y-%m-%d')\n",
    "df3 = orders[orders['accepted_at'] == '2022-01-13']\n",
    "df3 = df3.groupby(['order_id']).agg({'price': sum}).reset_index()\n",
    "df3['price'].mean()"
   ]
  },
  {
   "cell_type": "markdown",
   "metadata": {
    "id": "uD94_oq32--E"
   },
   "source": [
    "**4. Доля промо в заданной категории**  \n",
    "Когда товар продается по промо-акции, его базовая цена не совпадает с фактической ценой. Необходимо посчитать, какую долю от общих продаж категории \"Сыры\" занимают промо (в штуках). Построить пайчарт, который это проиллюстрирует.  \n",
    "Ответ: 30,7%"
   ]
  },
  {
   "cell_type": "code",
   "execution_count": 13,
   "metadata": {
    "colab": {
     "base_uri": "https://localhost:8080/"
    },
    "id": "0L1geITX3O7u",
    "outputId": "3fb4b7ce-7c5f-4c79-9e56-7d50673740d2"
   },
   "outputs": [
    {
     "data": {
      "text/plain": [
       "0.30701754385964913"
      ]
     },
     "execution_count": 13,
     "metadata": {},
     "output_type": "execute_result"
    }
   ],
   "source": [
    "# считаем долю промо сыров\n",
    "df4 = df[df['level1'] == 'Сыры']\n",
    "df4_promo = df4[df4['price'] < df4['regular_price']]\n",
    "cheese_al = df4['quantity'].sum()\n",
    "cheese_promo = df4_promo['quantity'].sum()\n",
    "res = cheese_promo / cheese_al\n",
    "res"
   ]
  },
  {
   "cell_type": "code",
   "execution_count": null,
   "metadata": {
    "colab": {
     "base_uri": "https://localhost:8080/",
     "height": 428
    },
    "id": "1liAIpHM6RnE",
    "outputId": "f9b79ca5-b041-44b9-8d3e-172f0630278e"
   },
   "outputs": [
    {
     "data": {
      "image/png": "[encoded data removed]",
      "text/plain": [
       "<Figure size 640x480 with 1 Axes>"
      ]
     },
     "metadata": {},
     "output_type": "display_data"
    }
   ],
   "source": [
    "# делаем мини-датафрейм для построения круговой диаграммы\n",
    "cheese_not_promo = cheese_al - cheese_promo\n",
    "df4_pie = [cheese_promo, cheese_not_promo]\n",
    "labels = ['промо', 'обычная цена']\n",
    "plt.pie(df4_pie, labels = labels, explode = [0,0.15], autopct = '%1.1f%%')\n",
    "plt.title('Доля промо товаров, проданных в категории \"Сыры\"');"
   ]
  },
  {
   "cell_type": "markdown",
   "metadata": {
    "id": "rYZKxLrNBlWT"
   },
   "source": [
    "**5. Посчитать маржу по категориям в рублях и в % и отобразить с помощью 2 барчартов**"
   ]
  },
  {
   "cell_type": "code",
   "execution_count": 14,
   "metadata": {
    "colab": {
     "base_uri": "https://localhost:8080/",
     "height": 206
    },
    "id": "0HA74pa5BjOr",
    "outputId": "737d5b91-e175-435d-9ea1-d5493f598c74"
   },
   "outputs": [
    {
     "data": {
      "text/html": [
       "<div>\n",
       "<style scoped>\n",
       "    .dataframe tbody tr th:only-of-type {\n",
       "        vertical-align: middle;\n",
       "    }\n",
       "\n",
       "    .dataframe tbody tr th {\n",
       "        vertical-align: top;\n",
       "    }\n",
       "\n",
       "    .dataframe thead th {\n",
       "        text-align: right;\n",
       "    }\n",
       "</style>\n",
       "<table border=\"1\" class=\"dataframe\">\n",
       "  <thead>\n",
       "    <tr style=\"text-align: right;\">\n",
       "      <th></th>\n",
       "      <th>Категории товаров</th>\n",
       "      <th>Маржа, руб.</th>\n",
       "      <th>Маржа, %</th>\n",
       "    </tr>\n",
       "  </thead>\n",
       "  <tbody>\n",
       "    <tr>\n",
       "      <th>0</th>\n",
       "      <td>Безалкогольные напитки</td>\n",
       "      <td>20373</td>\n",
       "      <td>12.1</td>\n",
       "    </tr>\n",
       "    <tr>\n",
       "      <th>1</th>\n",
       "      <td>Кулинария</td>\n",
       "      <td>18452</td>\n",
       "      <td>11.0</td>\n",
       "    </tr>\n",
       "    <tr>\n",
       "      <th>2</th>\n",
       "      <td>Замороженная продукция</td>\n",
       "      <td>13099</td>\n",
       "      <td>7.8</td>\n",
       "    </tr>\n",
       "    <tr>\n",
       "      <th>3</th>\n",
       "      <td>Молочная продукция</td>\n",
       "      <td>12493</td>\n",
       "      <td>7.4</td>\n",
       "    </tr>\n",
       "    <tr>\n",
       "      <th>4</th>\n",
       "      <td>Мясная гастрономия</td>\n",
       "      <td>10230</td>\n",
       "      <td>6.1</td>\n",
       "    </tr>\n",
       "  </tbody>\n",
       "</table>\n",
       "</div>"
      ],
      "text/plain": [
       "        Категории товаров  Маржа, руб.  Маржа, %\n",
       "0  Безалкогольные напитки        20373      12.1\n",
       "1               Кулинария        18452      11.0\n",
       "2  Замороженная продукция        13099       7.8\n",
       "3      Молочная продукция        12493       7.4\n",
       "4      Мясная гастрономия        10230       6.1"
      ]
     },
     "execution_count": 14,
     "metadata": {},
     "output_type": "execute_result"
    }
   ],
   "source": [
    "# считаем маржу - разницу между выручкой и закупочной ценой в данном случае\n",
    "df['profit'] = (df['price'] - df['cost_price']) * df['quantity']\n",
    "df5 = df.groupby(['level1']).agg({'profit': sum}).sort_values(by = ['profit'], ascending = False).reset_index()\n",
    "sum_profit = df5['profit'].sum()\n",
    "df5['percent'] = round(df5['profit']/sum_profit * 100, 1)\n",
    "df5.columns = ['Категории товаров', 'Маржа, руб.', 'Маржа, %']\n",
    "df5.head()"
   ]
  },
  {
   "cell_type": "code",
   "execution_count": null,
   "metadata": {
    "colab": {
     "base_uri": "https://localhost:8080/",
     "height": 664
    },
    "id": "BrOKtHv5pXdv",
    "outputId": "d5a7c380-1f5a-4528-f8d7-15abd6961a72"
   },
   "outputs": [
    {
     "data": {
      "image/png": "[encoded data removed]",
      "text/plain": [
       "<Figure size 1500x500 with 2 Axes>"
      ]
     },
     "metadata": {},
     "output_type": "display_data"
    }
   ],
   "source": [
    "# строим графики\n",
    "fig, ax = plt.subplots(1, 2, figsize = (15, 5))\n",
    "ax[0].bar(df5['Категории товаров'], df5['Маржа, руб.'])\n",
    "ax[0].set_ylabel('Маржа, руб.')\n",
    "ax[0].tick_params(axis = 'x', rotation = 90)\n",
    "\n",
    "ax[1].bar(df5['Категории товаров'], df5['Маржа, %'])\n",
    "ax[1].set_ylabel('Маржа, %.')\n",
    "ax[1].tick_params(axis = 'x', rotation = 90);"
   ]
  },
  {
   "cell_type": "markdown",
   "metadata": {
    "id": "JJtTKUvD6Miw"
   },
   "source": [
    "**6. ABC анализ по количеству и по сумме продаж**"
   ]
  },
  {
   "cell_type": "markdown",
   "metadata": {
    "id": "XxKdCYNacEyi"
   },
   "source": [
    "Анализ будет проводится по подкатегориям товаров (level2) по схеме:   \n",
    "- группа А - 80% продаж;  \n",
    "- группа В - 15% продаж;  \n",
    "- группа С - 5% продаж."
   ]
  },
  {
   "cell_type": "code",
   "execution_count": 15,
   "metadata": {
    "colab": {
     "base_uri": "https://localhost:8080/",
     "height": 206
    },
    "id": "5HeLG6CN6YKx",
    "outputId": "7f31d0fd-9230-4fe6-dbff-040bfc9161d1"
   },
   "outputs": [
    {
     "data": {
      "text/html": [
       "<div>\n",
       "<style scoped>\n",
       "    .dataframe tbody tr th:only-of-type {\n",
       "        vertical-align: middle;\n",
       "    }\n",
       "\n",
       "    .dataframe tbody tr th {\n",
       "        vertical-align: top;\n",
       "    }\n",
       "\n",
       "    .dataframe thead th {\n",
       "        text-align: right;\n",
       "    }\n",
       "</style>\n",
       "<table border=\"1\" class=\"dataframe\">\n",
       "  <thead>\n",
       "    <tr style=\"text-align: right;\">\n",
       "      <th></th>\n",
       "      <th>level2</th>\n",
       "      <th>quantity</th>\n",
       "      <th>quantity_percent</th>\n",
       "      <th>cumsum_quantity_percent</th>\n",
       "      <th>group_by_quantity</th>\n",
       "    </tr>\n",
       "  </thead>\n",
       "  <tbody>\n",
       "    <tr>\n",
       "      <th>51</th>\n",
       "      <td>Напитки</td>\n",
       "      <td>252</td>\n",
       "      <td>6.752412</td>\n",
       "      <td>6.752412</td>\n",
       "      <td>A</td>\n",
       "    </tr>\n",
       "    <tr>\n",
       "      <th>10</th>\n",
       "      <td>Готовые блюда</td>\n",
       "      <td>248</td>\n",
       "      <td>6.645230</td>\n",
       "      <td>13.397642</td>\n",
       "      <td>A</td>\n",
       "    </tr>\n",
       "    <tr>\n",
       "      <th>92</th>\n",
       "      <td>Хлеб и хлебобулочные изделия</td>\n",
       "      <td>218</td>\n",
       "      <td>5.841372</td>\n",
       "      <td>19.239014</td>\n",
       "      <td>A</td>\n",
       "    </tr>\n",
       "    <tr>\n",
       "      <th>72</th>\n",
       "      <td>Снэки соленые</td>\n",
       "      <td>180</td>\n",
       "      <td>4.823151</td>\n",
       "      <td>24.062165</td>\n",
       "      <td>A</td>\n",
       "    </tr>\n",
       "    <tr>\n",
       "      <th>6</th>\n",
       "      <td>Воды питьевые</td>\n",
       "      <td>162</td>\n",
       "      <td>4.340836</td>\n",
       "      <td>28.403001</td>\n",
       "      <td>A</td>\n",
       "    </tr>\n",
       "  </tbody>\n",
       "</table>\n",
       "</div>"
      ],
      "text/plain": [
       "                          level2  quantity  quantity_percent  \\\n",
       "51                       Напитки       252          6.752412   \n",
       "10                 Готовые блюда       248          6.645230   \n",
       "92  Хлеб и хлебобулочные изделия       218          5.841372   \n",
       "72                 Снэки соленые       180          4.823151   \n",
       "6                  Воды питьевые       162          4.340836   \n",
       "\n",
       "    cumsum_quantity_percent group_by_quantity  \n",
       "51                 6.752412                 A  \n",
       "10                13.397642                 A  \n",
       "92                19.239014                 A  \n",
       "72                24.062165                 A  \n",
       "6                 28.403001                 A  "
      ]
     },
     "execution_count": 15,
     "metadata": {},
     "output_type": "execute_result"
    }
   ],
   "source": [
    "# ABC анализ по количеству проданных позиций\n",
    "df6_quantity = df.groupby(['level2']).agg({'quantity': sum}).reset_index()\n",
    "sum_quantity = df6_quantity['quantity'].sum()\n",
    "df6_quantity['quantity_percent'] = df6_quantity['quantity'] / sum_quantity * 100\n",
    "df6_quantity.sort_values(by = ['quantity_percent'], ascending = False, inplace = True)\n",
    "df6_quantity['cumsum_quantity_percent'] = df6_quantity['quantity_percent'].cumsum()\n",
    "df6_quantity['group_by_quantity'] = df6_quantity['cumsum_quantity_percent'].apply(lambda x: 'A' if x <= 80 else ('B' if x <= 95 else 'C'))\n",
    "df6_quantity.head()"
   ]
  },
  {
   "cell_type": "code",
   "execution_count": 17,
   "metadata": {
    "colab": {
     "base_uri": "https://localhost:8080/",
     "height": 206
    },
    "id": "xgF69zx3CBUM",
    "outputId": "67e1920b-958f-4a2c-b072-d478e3f82ae2"
   },
   "outputs": [
    {
     "data": {
      "text/html": [
       "<div>\n",
       "<style scoped>\n",
       "    .dataframe tbody tr th:only-of-type {\n",
       "        vertical-align: middle;\n",
       "    }\n",
       "\n",
       "    .dataframe tbody tr th {\n",
       "        vertical-align: top;\n",
       "    }\n",
       "\n",
       "    .dataframe thead th {\n",
       "        text-align: right;\n",
       "    }\n",
       "</style>\n",
       "<table border=\"1\" class=\"dataframe\">\n",
       "  <thead>\n",
       "    <tr style=\"text-align: right;\">\n",
       "      <th></th>\n",
       "      <th>level2</th>\n",
       "      <th>price</th>\n",
       "      <th>price_percent</th>\n",
       "      <th>cumsum_price_percent</th>\n",
       "      <th>group_by_price</th>\n",
       "    </tr>\n",
       "  </thead>\n",
       "  <tbody>\n",
       "    <tr>\n",
       "      <th>10</th>\n",
       "      <td>Готовые блюда</td>\n",
       "      <td>36944</td>\n",
       "      <td>9.509983</td>\n",
       "      <td>9.509983</td>\n",
       "      <td>A</td>\n",
       "    </tr>\n",
       "    <tr>\n",
       "      <th>50</th>\n",
       "      <td>Мясо птицы охлажденное</td>\n",
       "      <td>19402</td>\n",
       "      <td>4.994388</td>\n",
       "      <td>14.504371</td>\n",
       "      <td>A</td>\n",
       "    </tr>\n",
       "    <tr>\n",
       "      <th>51</th>\n",
       "      <td>Напитки</td>\n",
       "      <td>18320</td>\n",
       "      <td>4.715864</td>\n",
       "      <td>19.220235</td>\n",
       "      <td>A</td>\n",
       "    </tr>\n",
       "    <tr>\n",
       "      <th>85</th>\n",
       "      <td>Тепличные овощи, грибы</td>\n",
       "      <td>17782</td>\n",
       "      <td>4.577374</td>\n",
       "      <td>23.797609</td>\n",
       "      <td>A</td>\n",
       "    </tr>\n",
       "    <tr>\n",
       "      <th>94</th>\n",
       "      <td>Цитрусовые, семечковые и прочие плоды</td>\n",
       "      <td>16038</td>\n",
       "      <td>4.128440</td>\n",
       "      <td>27.926049</td>\n",
       "      <td>A</td>\n",
       "    </tr>\n",
       "  </tbody>\n",
       "</table>\n",
       "</div>"
      ],
      "text/plain": [
       "                                   level2  price  price_percent  \\\n",
       "10                          Готовые блюда  36944       9.509983   \n",
       "50                 Мясо птицы охлажденное  19402       4.994388   \n",
       "51                                Напитки  18320       4.715864   \n",
       "85                 Тепличные овощи, грибы  17782       4.577374   \n",
       "94  Цитрусовые, семечковые и прочие плоды  16038       4.128440   \n",
       "\n",
       "    cumsum_price_percent group_by_price  \n",
       "10              9.509983              A  \n",
       "50             14.504371              A  \n",
       "51             19.220235              A  \n",
       "85             23.797609              A  \n",
       "94             27.926049              A  "
      ]
     },
     "execution_count": 17,
     "metadata": {},
     "output_type": "execute_result"
    }
   ],
   "source": [
    "# ABC анализ по сумме продаж\n",
    "df6_price = df.groupby(['level2']).agg({'price': sum}).reset_index()\n",
    "sum_price = df6_price['price'].sum()\n",
    "df6_price['price_percent'] = df6_price['price'] / sum_price * 100\n",
    "df6_price.sort_values(by = ['price_percent'], ascending = False, inplace = True)\n",
    "df6_price['cumsum_price_percent'] = df6_price['price_percent'].cumsum()\n",
    "df6_price['group_by_price'] = df6_price['cumsum_price_percent'].apply(lambda x: 'A' if x <= 80 else ('B' if x <= 95 else 'C'))\n",
    "df6_price.head()"
   ]
  },
  {
   "cell_type": "code",
   "execution_count": 18,
   "metadata": {
    "colab": {
     "base_uri": "https://localhost:8080/",
     "height": 206
    },
    "id": "M_84tE2dCsxK",
    "outputId": "ada94c8c-6e6d-4438-8d37-bb578f00fcd5"
   },
   "outputs": [
    {
     "data": {
      "text/html": [
       "<div>\n",
       "<style scoped>\n",
       "    .dataframe tbody tr th:only-of-type {\n",
       "        vertical-align: middle;\n",
       "    }\n",
       "\n",
       "    .dataframe tbody tr th {\n",
       "        vertical-align: top;\n",
       "    }\n",
       "\n",
       "    .dataframe thead th {\n",
       "        text-align: right;\n",
       "    }\n",
       "</style>\n",
       "<table border=\"1\" class=\"dataframe\">\n",
       "  <thead>\n",
       "    <tr style=\"text-align: right;\">\n",
       "      <th></th>\n",
       "      <th>Подкатегория товаров</th>\n",
       "      <th>ABC по количеству продаж</th>\n",
       "      <th>ABC по сумме продаж</th>\n",
       "      <th>ABC по количеству и сумме</th>\n",
       "    </tr>\n",
       "  </thead>\n",
       "  <tbody>\n",
       "    <tr>\n",
       "      <th>0</th>\n",
       "      <td>Напитки</td>\n",
       "      <td>A</td>\n",
       "      <td>A</td>\n",
       "      <td>AA</td>\n",
       "    </tr>\n",
       "    <tr>\n",
       "      <th>1</th>\n",
       "      <td>Готовые блюда</td>\n",
       "      <td>A</td>\n",
       "      <td>A</td>\n",
       "      <td>AA</td>\n",
       "    </tr>\n",
       "    <tr>\n",
       "      <th>2</th>\n",
       "      <td>Хлеб и хлебобулочные изделия</td>\n",
       "      <td>A</td>\n",
       "      <td>A</td>\n",
       "      <td>AA</td>\n",
       "    </tr>\n",
       "    <tr>\n",
       "      <th>3</th>\n",
       "      <td>Снэки соленые</td>\n",
       "      <td>A</td>\n",
       "      <td>A</td>\n",
       "      <td>AA</td>\n",
       "    </tr>\n",
       "    <tr>\n",
       "      <th>4</th>\n",
       "      <td>Воды питьевые</td>\n",
       "      <td>A</td>\n",
       "      <td>A</td>\n",
       "      <td>AA</td>\n",
       "    </tr>\n",
       "  </tbody>\n",
       "</table>\n",
       "</div>"
      ],
      "text/plain": [
       "           Подкатегория товаров ABC по количеству продаж ABC по сумме продаж  \\\n",
       "0                       Напитки                        A                   A   \n",
       "1                 Готовые блюда                        A                   A   \n",
       "2  Хлеб и хлебобулочные изделия                        A                   A   \n",
       "3                 Снэки соленые                        A                   A   \n",
       "4                 Воды питьевые                        A                   A   \n",
       "\n",
       "  ABC по количеству и сумме  \n",
       "0                        AA  \n",
       "1                        AA  \n",
       "2                        AA  \n",
       "3                        AA  \n",
       "4                        AA  "
      ]
     },
     "execution_count": 18,
     "metadata": {},
     "output_type": "execute_result"
    }
   ],
   "source": [
    "# ABC по количеству и по сумме\n",
    "df6 = pd.merge(df6_quantity, df6_price, on = 'level2')\n",
    "df6 = df6[['level2', 'group_by_quantity', 'group_by_price']]\n",
    "df6['quantity_price_group'] = df6['group_by_quantity'] + df6['group_by_price']\n",
    "df6.columns = ['Подкатегория товаров', 'ABC по количеству продаж', 'ABC по сумме продаж', 'ABC по количеству и сумме']\n",
    "df6.head()"
   ]
  }
 ],
 "metadata": {
  "colab": {
   "provenance": []
  },
  "kernelspec": {
   "display_name": "Python 3 (ipykernel)",
   "language": "python",
   "name": "python3"
  },
  "language_info": {
   "codemirror_mode": {
    "name": "ipython",
    "version": 3
   },
   "file_extension": ".py",
   "mimetype": "text/x-python",
   "name": "python",
   "nbconvert_exporter": "python",
   "pygments_lexer": "ipython3",
   "version": "3.11.5"
  }
 },
 "nbformat": 4,
 "nbformat_minor": 1
}
